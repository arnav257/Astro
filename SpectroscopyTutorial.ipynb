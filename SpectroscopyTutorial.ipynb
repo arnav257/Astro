{
 "cells": [
  {
   "cell_type": "code",
   "execution_count": 1,
   "metadata": {
    "scrolled": true
   },
   "outputs": [
    {
     "name": "stdout",
     "output_type": "stream",
     "text": [
      "Populating the interactive namespace from numpy and matplotlib\n"
     ]
    }
   ],
   "source": [
    "%pylab inline\n",
    "from astropy.io import fits\n",
    "import subprocess\n",
    "import copy\n",
    "\n",
    "import warnings\n",
    "warnings.filterwarnings('ignore')"
   ]
  },
  {
   "cell_type": "markdown",
   "metadata": {},
   "source": [
    "# Part I: Orienting yourself to the dataset."
   ]
  },
  {
   "cell_type": "markdown",
   "metadata": {},
   "source": [
    "Get to know the data: Display the list of available files. Display a header and explore the keywords and their values. This time, all included files will be used. Note 1: when reading in these data using the astropy fits package, you may need to specify the keyword ignore_missing_end=True, or astropy will crash. It may still throw a lot of warnings, but these can be ignored if there are no errors. Note 2: The spectrum will be oriented up-down by default. Please rotate all images as you read them in (e.g. using numpy's rot90() function), so that the spectra run left-right along the detector. This notebook is written assuming that the files have been rotated so that the spectra run left."
   ]
  },
  {
   "cell_type": "code",
   "execution_count": 2,
   "metadata": {},
   "outputs": [
    {
     "name": "stdout",
     "output_type": "stream",
     "text": [
      "['.DS_Store', 'nov05s0002.fits', 'nov05s0003.fits', 'nov05s0004.fits', 'nov05s0005.fits', 'nov05s0006.fits', 'nov05s0007.fits', 'nov05s0016.fits', 'nov05s0017.fits', 'nov05s0038.fits', 'nov05s0039.fits']\n"
     ]
    }
   ],
   "source": [
    "import os\n",
    "\n",
    "data_dir = \"Ay107/\"\n",
    "\n",
    "fits_files = os.listdir(data_dir)\n",
    "print(fits_files)"
   ]
  },
  {
   "cell_type": "code",
   "execution_count": 3,
   "metadata": {},
   "outputs": [],
   "source": [
    "hdul1 = fits.open(name=data_dir+\"nov05s0017.fits\", ignore_missing_end=True)"
   ]
  },
  {
   "cell_type": "code",
   "execution_count": 4,
   "metadata": {
    "scrolled": false
   },
   "outputs": [
    {
     "data": {
      "text/plain": [
       "SIMPLE  =                    T / Tape is in Fits format                         \n",
       "BITPIX  =                   32 / Bits per pixel                                 \n",
       "NAXIS   =                    2 / Number of axes                                 \n",
       "NAXIS1  =                 1024 / Number of pixels in axis 1                     \n",
       "NAXIS2  =                 1024 / Number of pixels in axis 2                     \n",
       "EXTEND  =                    T                                                  \n",
       "BSCALE  =              1.00000 / Scaling factor                                 \n",
       "BZERO   =              0.00000 / Scaling zero-point                             \n",
       "TELESCOP= 'Keck II           ' / Telescope                                      \n",
       "OBSERVER= 'Imke, Hammel, de K' / Observer                                       \n",
       "OBJECT  = ' HD31033          ' / Object name                                    \n",
       "COMMENT = 'Obs #1, Exp 2.    ' / Comment                                        \n",
       "ROOTNAME= 'nov05s            ' / File Root Name                                 \n",
       "FILENUM =                   17 / Frame Number                                   \n",
       "FILENAME= 'nov05s0017.fits   ' / Name of file                                   \n",
       "OUTDIR  = '/sdata602/nirspec/2012nov05/spec/     ' / Data Directory             \n",
       "SCRIPTNA= 'NULL              ' / Name of current script                         \n",
       "FILNAME = 'NIRSPEC-6         ' / Filter Name                                    \n",
       "SLITNAME= '42x0.760          ' / Slit Name                                      \n",
       "SLITPA  =              -25.040 / Slit position angle                            \n",
       "SLITX   =              129.500 / X pixel of the center of the slit              \n",
       "SLITY   =              122.000 / Y pixel of the center of the slit              \n",
       "SLITANG =               85.300 / Slit angle in the scam. CCW from hor.          \n",
       "SCAMPA  =              -20.340 / Scam position angle                            \n",
       "ITIME   =                1.000 / Integration time per coadd                     \n",
       "COADDS  =                   10 / Number of coadds                               \n",
       "SAMPMODE=                    2 / 1=Single; 2=CDS; 3=MCDS                        \n",
       "DETBIAS =                  450 / Detector bias setting (0-4096)                 \n",
       "MULTISPE=                    2 / Number of multiple reads                       \n",
       "SAMPRATE=                  250 / Spec sampling rate in KHz                      \n",
       "Q1OFFSET=                 3240 / Aladdin Quadrant 1 preamp offset               \n",
       "Q2OFFSET=                 3240 / Aladdin Quadrant 2 preamp offset               \n",
       "Q3OFFSET=                 3240 / Aladdin Quadrant 3 preamp offset               \n",
       "Q4OFFSET=                 3240 / Aladdin Quadrant 4 preamp offset               \n",
       "GAIN.SPE=                    4 / Preamp gain setting 1-4                        \n",
       "FREQ.SPE=                    4 / Preamp filtering frequency setting 1-4         \n",
       "CRYOTEMP=               30.000 / Aladdin cold head temperature                  \n",
       "FIL1POS =                   11 / Filter 1 Position                              \n",
       "FIL2POS =                    0 / Filter 2 Position                              \n",
       "SLITPOS =                   11 / Slit Position                                  \n",
       "ECHLPOS =              179.700 / Echelle position                               \n",
       "DISPPOS =               33.610 / Cross Disperser position                       \n",
       "IROTLOC =                52560 / Step position of Image rotator                 \n",
       "CALMPOS =                    0 / Cal. Mirror Position, 0=out, 1=in              \n",
       "CALCPOS =                    0 / Cal. Cover Position, 0=out, 1=in               \n",
       "CALPPOS =                    0 / Cal. Pinhole Position, 0=out, 1=in             \n",
       "NEON    =                    0 / Neon lamp: 1=on, 0=off                         \n",
       "ARGON   =                    0 / Argon lamp: 1=on, 0=off                        \n",
       "KRYPTON =                    0 / Krypton lamp: 1=on, 0=off                      \n",
       "XENON   =                    0 / Xenon lamp: 1=on, 0=off                        \n",
       "ETALON  =                    0 / Etalon lamp: 1=on, 0=off                       \n",
       "FLAT    =                    0 / Flat lamp: 1=on, 0=off                         \n",
       "UTC     = '10:47:40.94       ' / coordinated universal time (h)                 \n",
       "AIRMASS =              1.07136 / air mass (1.07)                                \n",
       "AXESTAT = 'tracking          ' / axes control status                            \n",
       "AZ      =             70.64754 / telescope azimuth (70.65 deg)                  \n",
       "CALOCAL =              0.01667 / collimation azimuth local (60.                 \n",
       "CELOCAL =             -0.00496 / collimation elevation local (-                 \n",
       "CURRINST= 'NIRSPEC           ' / current instrument                             \n",
       "DATE-OBS= '2012-11-05        ' / universal date of observation                  \n",
       "DCSSTAT = 'standby           ' / drive and control status                       \n",
       "DCSVERS = '7-2-0             ' / drive and control version                      \n",
       "DEC     =             25.36826 / telescope declination (+25:22:                 \n",
       "DOMEPOSN=             70.65551 / dome azimuth (70.66 deg)                       \n",
       "DOMESTAT= 'tracking          ' / dome status                                    \n",
       "EL      =             68.95024 / telescope elevation (68.95 deg                 \n",
       "EQUINOX =           2000.00000 / telescope equinox (2000.0)                     \n",
       "FOCALSTN= 'rnas (right nasmyt' / focal station                                  \n",
       "HA      =            -22.08962 / telescope hour angle (+22:31:3                 \n",
       "LST     = '03:26:04.39       ' / local apparent sidereal time (                 \n",
       "MJD-OBS =          56236.44978 / modified julian date of observ                 \n",
       "PARANG  =           -100.85261 / parallactic angle astrometric                  \n",
       "PARANTEL=           -100.83770 / parallactic angle telescope (-                 \n",
       "DRA     =              0.00000 / diff ra rate (0.000050 seconds                 \n",
       "DDEC    =              0.00000 / diff decl rate (0.0002722 arcs                 \n",
       "DTRACK  = 'disabled          ' / differential tracking enabled                  \n",
       "PONAME  = 'SLIT              ' / pointing origin name                           \n",
       "POXOFF  =              0.00000 / pointing origin x offset (0.00                 \n",
       "POYOFF  =              0.00000 / pointing origin y offset (0.00                 \n",
       "POXPOS  =              0.00000 / pointing origin xposition (0.0                 \n",
       "POYPOS  =             -0.00022 / pointing origin yposition (-0.                 \n",
       "PONAME1 = 'REF               ' / pointing origin name 1                         \n",
       "POXPOS1 =             -0.00207 / pointing origin xposition 1 (-                 \n",
       "POYPOS1 =              0.00172 / pointing origin yposition 1 (1                 \n",
       "PONAME2 = 'SLIT              ' / pointing origin name 2                         \n",
       "POXPOS2 =              0.00000 / pointing origin xposition 2 (0                 \n",
       "POYPOS2 =             -0.00022 / pointing origin yposition 2 (-                 \n",
       "PONAME3 = 'REFA              ' / pointing origin name 3                         \n",
       "POXPOS3 =              0.00000 / pointing origin xposition 3 (0                 \n",
       "POYPOS3 =              0.05200 / pointing origin yposition 3 (5                 \n",
       "PONAME4 = '<udf>             ' / pointing origin name 4                         \n",
       "POXPOS4 =              0.00000 / pointing origin xposition 4 (0                 \n",
       "POYPOS4 =              0.00000 / pointing origin yposition 4 (0                 \n",
       "PONAME5 = '<udf>             ' / pointing origin name 5                         \n",
       "POXPOS5 =              0.00000 / pointing origin xposition 5 (0                 \n",
       "POYPOS5 =              0.00000 / pointing origin yposition 5 (0                 \n",
       "PONAME6 = '<udf>             ' / pointing origin name 6                         \n",
       "POXPOS6 =              0.00000 / pointing origin xposition 6 (0                 \n",
       "POYPOS6 =              0.00000 / pointing origin yposition 6 (0                 \n",
       "PONAME7 = '<udf>             ' / pointing origin name 7                         \n",
       "POXPOS7 =              0.00000 / pointing origin xposition 7 (0                 \n",
       "POYPOS7 =              0.00000 / pointing origin yposition 7 (0                 \n",
       "PONAME8 = '<udf>             ' / pointing origin name 8                         \n",
       "POXPOS8 =              0.00000 / pointing origin xposition 8 (0                 \n",
       "POYPOS8 =              0.00000 / pointing origin yposition 8 (0                 \n",
       "PONAME9 = '<udf>             ' / pointing origin name 9                         \n",
       "RA      =             73.40114 / telescope right ascension (04:                 \n",
       "ROTCALAN=              0.00000 / rotator calibration angle (0.0                 \n",
       "ROTMODE = 'position angle    ' / rotator tracking mode                          \n",
       "ROTPPOSN=           -348.48676 / rotator physical position (-34                 \n",
       "ROTPOSN =            -20.37482 / rotator user position (-20.37                  \n",
       "ROTREFAN=              0.00000 / rotator reference angle (0.00                  \n",
       "SECFOCUS=              0.00142 / secondary mirror focus raw (1.                 \n",
       "SECTHETX=              0.00030 / secondary mirror thetax (62.6                  \n",
       "SECTHETY=             -0.00107 / secondary mirror thetay (-220.                 \n",
       "TARGDEC =             25.36631 / target declination (+25:21:58.                 \n",
       "TARGEPOC=           2000.00000 / target epoch (2000.000000)                     \n",
       "TARGEQUI=           2000.00000 / target equinox (2000.000000)                   \n",
       "TARGFRAM= 'FK5               ' / target frame                                   \n",
       "TARGNAME= 'HD31033           ' / target name                                    \n",
       "TARGPLAX=              0.00000 / target parallax (0.0 arcsec)                   \n",
       "TARGPMDC=              0.00000 / target proper motion dec (0.00                 \n",
       "TARGPMRA=              0.00000 / target proper motion ra (0.000                 \n",
       "TARGRA  =             73.40196 / target right ascension (04:53:                 \n",
       "TARGRADV=              0.00000 / target radial velocity (0.0000                 \n",
       "TELESCOP= 'Keck II           ' / telescope name                                 \n",
       "TELFOCUS=              0.00197 / telescope focus compensated (1                 \n",
       "TUBETEMP=              2.47860 / tube temperature (2.48 degC)                   \n",
       "UTC     = '10:47:40.94       ' / coordinated universal time (h)                 "
      ]
     },
     "execution_count": 4,
     "metadata": {},
     "output_type": "execute_result"
    }
   ],
   "source": [
    "hdul1[0].header"
   ]
  },
  {
   "cell_type": "code",
   "execution_count": null,
   "metadata": {},
   "outputs": [],
   "source": []
  },
  {
   "cell_type": "markdown",
   "metadata": {},
   "source": [
    "# Q1: Print out a log table in-line:\n",
    "For each file, the table should include: The file name, the UT time, the target RA and DEC, the target name, the object name, comment entry, the airmass, the filter, and the exposure time. \n",
    "Make sure your table has a title on every column, including units when relevant."
   ]
  },
  {
   "cell_type": "code",
   "execution_count": 5,
   "metadata": {},
   "outputs": [
    {
     "data": {
      "text/html": [
       "<div>\n",
       "<style scoped>\n",
       "    .dataframe tbody tr th:only-of-type {\n",
       "        vertical-align: middle;\n",
       "    }\n",
       "\n",
       "    .dataframe tbody tr th {\n",
       "        vertical-align: top;\n",
       "    }\n",
       "\n",
       "    .dataframe thead th {\n",
       "        text-align: right;\n",
       "    }\n",
       "</style>\n",
       "<table border=\"1\" class=\"dataframe\">\n",
       "  <thead>\n",
       "    <tr style=\"text-align: right;\">\n",
       "      <th></th>\n",
       "      <th>File Name</th>\n",
       "      <th>RA (deg)</th>\n",
       "      <th>Dec (deg)</th>\n",
       "      <th>UT</th>\n",
       "      <th>Airmass</th>\n",
       "      <th>Filter Name</th>\n",
       "      <th>Target Name</th>\n",
       "      <th>Object Name</th>\n",
       "      <th>Exposure Time (s)</th>\n",
       "      <th>Comment</th>\n",
       "      <th>Flat</th>\n",
       "    </tr>\n",
       "  </thead>\n",
       "  <tbody>\n",
       "    <tr>\n",
       "      <th>0</th>\n",
       "      <td>nov05s0002.fits</td>\n",
       "      <td>#### Error ###</td>\n",
       "      <td>#### Error ###</td>\n",
       "      <td>#### Error ###</td>\n",
       "      <td>#### Error ###</td>\n",
       "      <td>NIRSPEC-6</td>\n",
       "      <td>#### Error ###</td>\n",
       "      <td></td>\n",
       "      <td>0.25</td>\n",
       "      <td>[= 'flat lamp off     ' / Comment]</td>\n",
       "      <td>0</td>\n",
       "    </tr>\n",
       "    <tr>\n",
       "      <th>1</th>\n",
       "      <td>nov05s0003.fits</td>\n",
       "      <td>#### Error ###</td>\n",
       "      <td>#### Error ###</td>\n",
       "      <td>#### Error ###</td>\n",
       "      <td>#### Error ###</td>\n",
       "      <td>NIRSPEC-6</td>\n",
       "      <td>#### Error ###</td>\n",
       "      <td></td>\n",
       "      <td>0.25</td>\n",
       "      <td>[= 'flat field        ' / Comment]</td>\n",
       "      <td>1</td>\n",
       "    </tr>\n",
       "    <tr>\n",
       "      <th>2</th>\n",
       "      <td>nov05s0004.fits</td>\n",
       "      <td>#### Error ###</td>\n",
       "      <td>#### Error ###</td>\n",
       "      <td>#### Error ###</td>\n",
       "      <td>#### Error ###</td>\n",
       "      <td>NIRSPEC-6</td>\n",
       "      <td>#### Error ###</td>\n",
       "      <td></td>\n",
       "      <td>2.50</td>\n",
       "      <td>[= 'NeArXeKr          ' / Comment]</td>\n",
       "      <td>0</td>\n",
       "    </tr>\n",
       "    <tr>\n",
       "      <th>3</th>\n",
       "      <td>nov05s0005.fits</td>\n",
       "      <td>#### Error ###</td>\n",
       "      <td>#### Error ###</td>\n",
       "      <td>#### Error ###</td>\n",
       "      <td>#### Error ###</td>\n",
       "      <td>NIRSPEC-6</td>\n",
       "      <td>#### Error ###</td>\n",
       "      <td></td>\n",
       "      <td>2.50</td>\n",
       "      <td>[= 'NeArXeKr          ' / Comment]</td>\n",
       "      <td>0</td>\n",
       "    </tr>\n",
       "    <tr>\n",
       "      <th>4</th>\n",
       "      <td>nov05s0006.fits</td>\n",
       "      <td>#### Error ###</td>\n",
       "      <td>#### Error ###</td>\n",
       "      <td>#### Error ###</td>\n",
       "      <td>#### Error ###</td>\n",
       "      <td>NIRSPEC-6</td>\n",
       "      <td>#### Error ###</td>\n",
       "      <td></td>\n",
       "      <td>0.25</td>\n",
       "      <td>[= 'flat lamp off     ' / Comment]</td>\n",
       "      <td>0</td>\n",
       "    </tr>\n",
       "    <tr>\n",
       "      <th>5</th>\n",
       "      <td>nov05s0007.fits</td>\n",
       "      <td>#### Error ###</td>\n",
       "      <td>#### Error ###</td>\n",
       "      <td>#### Error ###</td>\n",
       "      <td>#### Error ###</td>\n",
       "      <td>NIRSPEC-6</td>\n",
       "      <td>#### Error ###</td>\n",
       "      <td></td>\n",
       "      <td>0.25</td>\n",
       "      <td>[= 'flat field        ' / Comment]</td>\n",
       "      <td>1</td>\n",
       "    </tr>\n",
       "    <tr>\n",
       "      <th>6</th>\n",
       "      <td>nov05s0016.fits</td>\n",
       "      <td>73.40295</td>\n",
       "      <td>25.36443</td>\n",
       "      <td>10:47:05.29</td>\n",
       "      <td>1.07232</td>\n",
       "      <td>NIRSPEC-6</td>\n",
       "      <td>HD31033</td>\n",
       "      <td>HD31033</td>\n",
       "      <td>10.00</td>\n",
       "      <td>[= 'Obs #1, Exp 1.    ' / Comment]</td>\n",
       "      <td>0</td>\n",
       "    </tr>\n",
       "    <tr>\n",
       "      <th>7</th>\n",
       "      <td>nov05s0017.fits</td>\n",
       "      <td>73.40114</td>\n",
       "      <td>25.36826</td>\n",
       "      <td>10:47:40.94</td>\n",
       "      <td>1.07136</td>\n",
       "      <td>NIRSPEC-6</td>\n",
       "      <td>HD31033</td>\n",
       "      <td>HD31033</td>\n",
       "      <td>10.00</td>\n",
       "      <td>[= 'Obs #1, Exp 2.    ' / Comment]</td>\n",
       "      <td>0</td>\n",
       "    </tr>\n",
       "    <tr>\n",
       "      <th>8</th>\n",
       "      <td>nov05s0038.fits</td>\n",
       "      <td>73.30626</td>\n",
       "      <td>21.71514</td>\n",
       "      <td>11:39:29.30</td>\n",
       "      <td>1.01129</td>\n",
       "      <td>NIRSPEC-6</td>\n",
       "      <td>Io 11:00</td>\n",
       "      <td>Io</td>\n",
       "      <td>30.00</td>\n",
       "      <td>[= 'Obs #1, Exp 1.    ' / Comment]</td>\n",
       "      <td>0</td>\n",
       "    </tr>\n",
       "    <tr>\n",
       "      <th>9</th>\n",
       "      <td>nov05s0039.fits</td>\n",
       "      <td>73.30523</td>\n",
       "      <td>21.71919</td>\n",
       "      <td>11:40:26.65</td>\n",
       "      <td>1.01072</td>\n",
       "      <td>NIRSPEC-6</td>\n",
       "      <td>Io 11:00</td>\n",
       "      <td>Io</td>\n",
       "      <td>30.00</td>\n",
       "      <td>[= 'Obs #1, Exp 2.    ' / Comment]</td>\n",
       "      <td>0</td>\n",
       "    </tr>\n",
       "  </tbody>\n",
       "</table>\n",
       "</div>"
      ],
      "text/plain": [
       "         File Name        RA (deg)       Dec (deg)              UT  \\\n",
       "0  nov05s0002.fits  #### Error ###  #### Error ###  #### Error ###   \n",
       "1  nov05s0003.fits  #### Error ###  #### Error ###  #### Error ###   \n",
       "2  nov05s0004.fits  #### Error ###  #### Error ###  #### Error ###   \n",
       "3  nov05s0005.fits  #### Error ###  #### Error ###  #### Error ###   \n",
       "4  nov05s0006.fits  #### Error ###  #### Error ###  #### Error ###   \n",
       "5  nov05s0007.fits  #### Error ###  #### Error ###  #### Error ###   \n",
       "6  nov05s0016.fits        73.40295        25.36443     10:47:05.29   \n",
       "7  nov05s0017.fits        73.40114        25.36826     10:47:40.94   \n",
       "8  nov05s0038.fits        73.30626        21.71514     11:39:29.30   \n",
       "9  nov05s0039.fits        73.30523        21.71919     11:40:26.65   \n",
       "\n",
       "          Airmass Filter Name     Target Name Object Name  Exposure Time (s)  \\\n",
       "0  #### Error ###   NIRSPEC-6  #### Error ###                           0.25   \n",
       "1  #### Error ###   NIRSPEC-6  #### Error ###                           0.25   \n",
       "2  #### Error ###   NIRSPEC-6  #### Error ###                           2.50   \n",
       "3  #### Error ###   NIRSPEC-6  #### Error ###                           2.50   \n",
       "4  #### Error ###   NIRSPEC-6  #### Error ###                           0.25   \n",
       "5  #### Error ###   NIRSPEC-6  #### Error ###                           0.25   \n",
       "6         1.07232   NIRSPEC-6         HD31033     HD31033              10.00   \n",
       "7         1.07136   NIRSPEC-6         HD31033     HD31033              10.00   \n",
       "8         1.01129   NIRSPEC-6        Io 11:00          Io              30.00   \n",
       "9         1.01072   NIRSPEC-6        Io 11:00          Io              30.00   \n",
       "\n",
       "                              Comment  Flat  \n",
       "0  [= 'flat lamp off     ' / Comment]     0  \n",
       "1  [= 'flat field        ' / Comment]     1  \n",
       "2  [= 'NeArXeKr          ' / Comment]     0  \n",
       "3  [= 'NeArXeKr          ' / Comment]     0  \n",
       "4  [= 'flat lamp off     ' / Comment]     0  \n",
       "5  [= 'flat field        ' / Comment]     1  \n",
       "6  [= 'Obs #1, Exp 1.    ' / Comment]     0  \n",
       "7  [= 'Obs #1, Exp 2.    ' / Comment]     0  \n",
       "8  [= 'Obs #1, Exp 1.    ' / Comment]     0  \n",
       "9  [= 'Obs #1, Exp 2.    ' / Comment]     0  "
      ]
     },
     "execution_count": 5,
     "metadata": {},
     "output_type": "execute_result"
    }
   ],
   "source": [
    "import pandas as pd\n",
    "\n",
    "FILENAME_col=[]\n",
    "RA_col=[]\n",
    "DEC_col=[]\n",
    "UTC_col=[]\n",
    "AIRMASS_col=[]\n",
    "FILTERNAME_col=[]\n",
    "TARGNAME_col=[]\n",
    "OBJECT_col=[]\n",
    "EXPOSURE_col=[]\n",
    "COMMENT_col=[]\n",
    "FLAT_col=[]\n",
    "\n",
    "for fits_file in fits_files:\n",
    "    if (fits_file[-5:]==\".fits\"):\n",
    "          \n",
    "        hdu=fits.open(name=data_dir+fits_file, ignore_missing_end=True)\n",
    "\n",
    "        FILENAME_col.append(hdu[0].header['FILENAME'])\n",
    "        RA_col.append(hdu[0].header['RA'])\n",
    "        DEC_col.append(hdu[0].header['DEC'])\n",
    "        UTC_col.append(hdu[0].header['UTC'])\n",
    "        AIRMASS_col.append(hdu[0].header['AIRMASS'])\n",
    "        FILTERNAME_col.append(hdu[0].header['FILNAME'])\n",
    "        TARGNAME_col.append(hdu[0].header['TARGNAME'])\n",
    "        OBJECT_col.append(hdu[0].header['OBJECT'])\n",
    "        EXPOSURE_col.append(hdu[0].header['ITIME']*hdu[0].header['COADDS'])\n",
    "        COMMENT_col.append(hdu[0].header['COMMENT'])\n",
    "        FLAT_col.append(hdu[0].header['FLAT'])\n",
    "\n",
    "log_table = pd.DataFrame(list(zip(FILENAME_col,RA_col,DEC_col,UTC_col,AIRMASS_col,FILTERNAME_col,TARGNAME_col,OBJECT_col,EXPOSURE_col,COMMENT_col,FLAT_col)),columns = ['File Name', 'RA (deg)', 'Dec (deg)', 'UT', 'Airmass', 'Filter Name', 'Target Name', 'Object Name', 'Exposure Time (s)', 'Comment', 'Flat']);\n",
    "\n",
    "log_table"
   ]
  },
  {
   "cell_type": "code",
   "execution_count": null,
   "metadata": {},
   "outputs": [],
   "source": []
  },
  {
   "cell_type": "markdown",
   "metadata": {},
   "source": [
    "# Part II: Flat Field and Spatial Rectification"
   ]
  },
  {
   "cell_type": "markdown",
   "metadata": {},
   "source": [
    "Make a flat field by taking each \"lamp on\" flat field and subtracting the neighboring \"lamp off\" flat field, then averaging the two resulting flats together. Normalizing this flat field is a little tricker because you only want to normalize the illuminated region, which is not rectangular. There are many ways to do this. The way this notebook will describe is to do the spatial rectification first (i.e. turning the illuminated band into a rectangle), and then to apply the rectified flat-field (after cropping out the non-illuminated region) to the rectified and cropped images. An alternative approach that you're welcome to use it to divide out the flats before rectifying, but you will need to make sure to normalize it using only the illuminated region."
   ]
  },
  {
   "cell_type": "code",
   "execution_count": 6,
   "metadata": {},
   "outputs": [
    {
     "data": {
      "text/plain": [
       "<matplotlib.image.AxesImage at 0x11a33bfeb50>"
      ]
     },
     "execution_count": 6,
     "metadata": {},
     "output_type": "execute_result"
    },
    {
     "data": {
      "image/png": "[encoded data removed]",
      "text/plain": [
       "<Figure size 432x288 with 1 Axes>"
      ]
     },
     "metadata": {
      "needs_background": "light"
     },
     "output_type": "display_data"
    }
   ],
   "source": [
    "hdul_flaton1 = fits.open(name=data_dir+\"nov05s0003.fits\", ignore_missing_end=True)\n",
    "hdul_flatoff1 = fits.open(name=data_dir+\"nov05s0002.fits\", ignore_missing_end=True)\n",
    "\n",
    "hdul_flaton2 = fits.open(name=data_dir+\"nov05s0007.fits\", ignore_missing_end=True)\n",
    "hdul_flatoff2 = fits.open(name=data_dir+\"nov05s0006.fits\", ignore_missing_end=True)\n",
    "\n",
    "flat1 = np.rot90(np.array(hdul_flaton1[0].data,dtype='float'))-np.rot90(np.array(hdul_flatoff1[0].data,dtype='float'))\n",
    "flat2 = np.rot90(np.array(hdul_flaton2[0].data,dtype='float'))-np.rot90(np.array(hdul_flatoff2[0].data,dtype='float'))\n",
    "\n",
    "plt.imshow(flat1,origin='lower')"
   ]
  },
  {
   "cell_type": "code",
   "execution_count": 7,
   "metadata": {},
   "outputs": [
    {
     "data": {
      "text/plain": [
       "<matplotlib.image.AxesImage at 0x11a33cf8850>"
      ]
     },
     "execution_count": 7,
     "metadata": {},
     "output_type": "execute_result"
    },
    {
     "data": {
      "image/png": "[encoded data removed]",
      "text/plain": [
       "<Figure size 432x288 with 1 Axes>"
      ]
     },
     "metadata": {
      "needs_background": "light"
     },
     "output_type": "display_data"
    }
   ],
   "source": [
    "flat=0.5*(flat1+flat2)\n",
    "plt.imshow(flat,origin='lower')"
   ]
  },
  {
   "cell_type": "markdown",
   "metadata": {},
   "source": [
    "Use the two star images to do the spatial rectification. First, subtract the second star image from the first and display the result. Then, determine the y-coordinate of the star at every point along its spectrum. The curve described by that sequence of coordinates is known as the \"trace\". Draw the trace on top of the images to confirm that it is in the right place."
   ]
  },
  {
   "cell_type": "code",
   "execution_count": 8,
   "metadata": {},
   "outputs": [
    {
     "data": {
      "text/plain": [
       "<matplotlib.image.AxesImage at 0x11a33dd7ee0>"
      ]
     },
     "execution_count": 8,
     "metadata": {},
     "output_type": "execute_result"
    },
    {
     "data": {
      "image/png": "[encoded data removed]",
      "text/plain": [
       "<Figure size 432x288 with 1 Axes>"
      ]
     },
     "metadata": {
      "needs_background": "light"
     },
     "output_type": "display_data"
    }
   ],
   "source": [
    "hdul_star1_1 = fits.open(name=data_dir+\"nov05s0016.fits\", ignore_missing_end=True)\n",
    "hdul_star1_2 = fits.open(name=data_dir+\"nov05s0017.fits\", ignore_missing_end=True)\n",
    "\n",
    "star1 = np.rot90(np.array(hdul_star1_1[0].data,dtype='float'))-np.rot90(np.array(hdul_star1_2[0].data,dtype='float'))\n",
    "\n",
    "hdul_star2_1 = fits.open(name=data_dir+\"nov05s0038.fits\", ignore_missing_end=True)\n",
    "hdul_star2_2 = fits.open(name=data_dir+\"nov05s0039.fits\", ignore_missing_end=True)\n",
    "\n",
    "star2 = np.rot90(np.array(hdul_star2_1[0].data,dtype='float'))-np.rot90(np.array(hdul_star2_2[0].data,dtype='float'))\n",
    "plt.imshow(star1,origin='lower')"
   ]
  },
  {
   "cell_type": "code",
   "execution_count": 17,
   "metadata": {},
   "outputs": [
    {
     "ename": "TypeError",
     "evalue": "_linspace_dispatcher() missing 1 required positional argument: 'stop'",
     "output_type": "error",
     "traceback": [
      "\u001b[1;31m---------------------------------------------------------------------------\u001b[0m",
      "\u001b[1;31mTypeError\u001b[0m                                 Traceback (most recent call last)",
      "\u001b[1;32mC:\\Users\\ARNAVD~1\\AppData\\Local\\Temp/ipykernel_5168/1157846787.py\u001b[0m in \u001b[0;36m<module>\u001b[1;34m\u001b[0m\n\u001b[0;32m      1\u001b[0m \u001b[0mplt\u001b[0m\u001b[1;33m.\u001b[0m\u001b[0mimshow\u001b[0m\u001b[1;33m(\u001b[0m\u001b[0mstar1\u001b[0m\u001b[1;33m,\u001b[0m\u001b[0morigin\u001b[0m\u001b[1;33m=\u001b[0m\u001b[1;34m'lower'\u001b[0m\u001b[1;33m)\u001b[0m\u001b[1;33m\u001b[0m\u001b[1;33m\u001b[0m\u001b[0m\n\u001b[1;32m----> 2\u001b[1;33m \u001b[0mplt\u001b[0m\u001b[1;33m.\u001b[0m\u001b[0mplot\u001b[0m\u001b[1;33m(\u001b[0m\u001b[0mnp\u001b[0m\u001b[1;33m.\u001b[0m\u001b[0mzeros\u001b[0m\u001b[1;33m(\u001b[0m\u001b[0mint\u001b[0m\u001b[1;33m(\u001b[0m\u001b[0mlen\u001b[0m\u001b[1;33m(\u001b[0m\u001b[0mstar1\u001b[0m\u001b[1;33m[\u001b[0m\u001b[1;36m0\u001b[0m\u001b[1;33m]\u001b[0m\u001b[1;33m)\u001b[0m\u001b[1;33m)\u001b[0m\u001b[1;33m)\u001b[0m\u001b[1;33m+\u001b[0m\u001b[1;36m300\u001b[0m\u001b[1;33m,\u001b[0m\u001b[0mnp\u001b[0m\u001b[1;33m.\u001b[0m\u001b[0mlinspace\u001b[0m\u001b[1;33m(\u001b[0m\u001b[0mint\u001b[0m\u001b[1;33m(\u001b[0m\u001b[0mlen\u001b[0m\u001b[1;33m(\u001b[0m\u001b[0mstar1\u001b[0m\u001b[1;33m[\u001b[0m\u001b[1;36m0\u001b[0m\u001b[1;33m]\u001b[0m\u001b[1;33m)\u001b[0m\u001b[1;33m)\u001b[0m\u001b[1;33m)\u001b[0m\u001b[1;33m)\u001b[0m\u001b[1;33m\u001b[0m\u001b[1;33m\u001b[0m\u001b[0m\n\u001b[0m",
      "\u001b[1;32m<__array_function__ internals>\u001b[0m in \u001b[0;36mlinspace\u001b[1;34m(*args, **kwargs)\u001b[0m\n",
      "\u001b[1;31mTypeError\u001b[0m: _linspace_dispatcher() missing 1 required positional argument: 'stop'"
     ]
    },
    {
     "data": {
      "image/png": "[encoded data removed]",
      "text/plain": [
       "<Figure size 432x288 with 1 Axes>"
      ]
     },
     "metadata": {
      "needs_background": "light"
     },
     "output_type": "display_data"
    }
   ],
   "source": [
    "plt.imshow(star1,origin='lower')"
   ]
  },
  {
   "cell_type": "code",
   "execution_count": null,
   "metadata": {},
   "outputs": [],
   "source": [
    "def findTrace(im):\n",
    "\n",
    "    upper_slice = np.array()\n",
    "    upper_trace = np.zeros(len(star1))\n",
    "    \n",
    "    value_up=0\n",
    "    max_up=0\n",
    "    \n",
    "    for r in range(310,450):\n",
    "        diff_up=np.abs(im[r]-im[r+1])\n",
    "        if max_up<diff_up:\n",
    "            max_diff_up=diff_up\n",
    "            upper_trace=r\n",
    "\n",
    "    diff_down=0\n",
    "    max_diff_down=0\n",
    "    lower_trace=0\n",
    "    \n",
    "    for r in range(2100,2249):\n",
    "        diff2=np.abs(np.average(im[r,:])-np.average(im[r+1,:]))\n",
    "        if max_diff_down<diff_down:\n",
    "            max_diff_down=diff_down\n",
    "            lower_trace=r\n",
    "                   \n",
    "    return upper_trace,lower_trace"
   ]
  },
  {
   "cell_type": "markdown",
   "metadata": {},
   "source": [
    "# Q2a. Display the stellar pair difference image with the trace for both the positive and negative spectrum drawn on it"
   ]
  },
  {
   "cell_type": "code",
   "execution_count": null,
   "metadata": {},
   "outputs": [],
   "source": []
  },
  {
   "cell_type": "code",
   "execution_count": null,
   "metadata": {},
   "outputs": [],
   "source": []
  },
  {
   "cell_type": "code",
   "execution_count": null,
   "metadata": {},
   "outputs": [],
   "source": []
  },
  {
   "cell_type": "markdown",
   "metadata": {},
   "source": [
    "These y-coordinates you've calculated for each trace represent the offset of each column that needs to be applied to straighten out the spectrum. Average together the two traces for the positive and negative spectra. Then flatten your star pair image by offsetting each column by the amount of the trace."
   ]
  },
  {
   "cell_type": "markdown",
   "metadata": {},
   "source": [
    "# Q2b: Display the rectified star spectrum pair, cropping down to the region of the detector just in the vicinity of the star. The star spectra should lie straight. "
   ]
  },
  {
   "cell_type": "code",
   "execution_count": null,
   "metadata": {},
   "outputs": [],
   "source": []
  },
  {
   "cell_type": "markdown",
   "metadata": {},
   "source": [
    "Now, let's revisit the flat field to create a rectified flat that will be applied to your rectified spectral images. Apply the offsets and crop the flat in exactly the same way you did for the star pair image. Make sure that the new cropped size excludes any of the un-illuminated pixels, which will be visible in the rectified flat if they're not cropped. Finally, divide the rectified, cropped flat field by its median value to normalize it to 1. This is your final flat field that will be applied to the data."
   ]
  },
  {
   "cell_type": "markdown",
   "metadata": {},
   "source": [
    "# Q2c. Plot your rectified, cropped, and normalized flat field"
   ]
  },
  {
   "cell_type": "code",
   "execution_count": null,
   "metadata": {},
   "outputs": [],
   "source": []
  },
  {
   "cell_type": "markdown",
   "metadata": {},
   "source": [
    "## Q2d: Divide your rectified star pair image by the normalized flat field and plot the star pair image before and after the flat correction."
   ]
  },
  {
   "cell_type": "code",
   "execution_count": null,
   "metadata": {},
   "outputs": [],
   "source": []
  },
  {
   "cell_type": "markdown",
   "metadata": {},
   "source": [
    "Determine the center y-coordinate of each spectrum. Then, extract the spectrum as follows. For each x-coordinate (wavelength axis), add up pixels within a y-distance \"a\" of the center of the spectrum. Then, calculate the background for every column by averaging the pixels that are between a distance \"b\" and a distance \"c\" of the center of the spectrum. These are the equivalent a/b/c from the imaging aperture photometry, we're just working in one dimension instead of two, and calculating the background separately at every wavelength."
   ]
  },
  {
   "cell_type": "code",
   "execution_count": null,
   "metadata": {},
   "outputs": [],
   "source": []
  },
  {
   "cell_type": "markdown",
   "metadata": {},
   "source": [
    "# Q2e. Plot the rectified stellar spectrum image with the apertures used for the extraction indicated. i.e. plot as horizontal lines on the rectified star pair image: coord+a, coord-a, coord+b, coord-b, coord+c, and coord-c for each of the two spectra, where \"coord\" is the y-coordinate at the center of that spectrum"
   ]
  },
  {
   "cell_type": "code",
   "execution_count": null,
   "metadata": {},
   "outputs": [],
   "source": []
  },
  {
   "cell_type": "code",
   "execution_count": null,
   "metadata": {},
   "outputs": [],
   "source": []
  },
  {
   "cell_type": "code",
   "execution_count": null,
   "metadata": {},
   "outputs": [],
   "source": []
  },
  {
   "cell_type": "markdown",
   "metadata": {},
   "source": [
    "Average together the two spectra you extracted, making sure you've subtracted the background and taken the negative of the negative spectrum so that both are positive. Divide by (exposure time x coadds), and label the plot in counts/sec."
   ]
  },
  {
   "cell_type": "markdown",
   "metadata": {},
   "source": [
    "# Q2f: Plot the averaged stellar spectrum in counts/sec vs. pixel"
   ]
  },
  {
   "cell_type": "code",
   "execution_count": null,
   "metadata": {},
   "outputs": [],
   "source": []
  },
  {
   "cell_type": "markdown",
   "metadata": {},
   "source": [
    "# Q3: Repeat the same procedure as above for the Io pair and plot the Io spectrum in counts/sec vs. pixel"
   ]
  },
  {
   "cell_type": "code",
   "execution_count": null,
   "metadata": {},
   "outputs": [],
   "source": []
  },
  {
   "cell_type": "code",
   "execution_count": null,
   "metadata": {},
   "outputs": [],
   "source": []
  },
  {
   "cell_type": "code",
   "execution_count": null,
   "metadata": {},
   "outputs": [],
   "source": []
  },
  {
   "cell_type": "code",
   "execution_count": null,
   "metadata": {},
   "outputs": [],
   "source": []
  },
  {
   "cell_type": "code",
   "execution_count": null,
   "metadata": {},
   "outputs": [],
   "source": []
  },
  {
   "cell_type": "code",
   "execution_count": null,
   "metadata": {},
   "outputs": [],
   "source": []
  },
  {
   "cell_type": "code",
   "execution_count": null,
   "metadata": {},
   "outputs": [],
   "source": []
  },
  {
   "cell_type": "code",
   "execution_count": null,
   "metadata": {},
   "outputs": [],
   "source": []
  },
  {
   "cell_type": "markdown",
   "metadata": {},
   "source": [
    "# Part III: Wavelength Calibration"
   ]
  },
  {
   "cell_type": "markdown",
   "metadata": {},
   "source": [
    "Rectify, crop and display an arc lamp image. The lines will likely not be perfectly vertical even after the rectification. In a full data reduction pipeline you would correct for this, but for this tutorial we will ignore it."
   ]
  },
  {
   "cell_type": "code",
   "execution_count": null,
   "metadata": {},
   "outputs": [],
   "source": []
  },
  {
   "cell_type": "markdown",
   "metadata": {},
   "source": [
    "# Q4a. Display the rectified, flat-fielded, and cropped arc lamp image"
   ]
  },
  {
   "cell_type": "code",
   "execution_count": null,
   "metadata": {},
   "outputs": [],
   "source": []
  },
  {
   "cell_type": "markdown",
   "metadata": {},
   "source": [
    "Plot a 1-D horizontal cut, i.e. a spectrum for a location around the middle of the slit"
   ]
  },
  {
   "cell_type": "code",
   "execution_count": null,
   "metadata": {},
   "outputs": [],
   "source": []
  },
  {
   "cell_type": "markdown",
   "metadata": {},
   "source": [
    "Using this spectrum, you will need to correctly identify at least three of the emission lines to determine the function converting pixel coordinate along the spectrum to wavelength. Below is a list of the wavelengths (in microns) of emission lines from the gasses in the arc lamp image. Not all emission lines in the image will have identifications in this list, and not all identifications will have corresponding lines. To attempt to identify them, consider that the spectrum measured should start close to 1.618 microns (left side if you used the np.rot90 function to rotate) and end close to 2.041 microns. And, pixel value should be close to linearly related to wavelength. This is the trickiest part of reducing spectral data!"
   ]
  },
  {
   "cell_type": "code",
   "execution_count": 9,
   "metadata": {},
   "outputs": [],
   "source": [
    "# Emission lines from the arc lamp gasses, in microns\n",
    "lines = np.array([1.64414,1.65247,1.65543,1.710811,1.716663,1.723492,1.733023,1.737748,1.741419,1.74497,1.762139,1.763526,\n",
    "                  1.777507,1.78288,1.800663,1.804072,1.863024,1.86373,1.870102,1.880273,1.98230,\n",
    "                  1.99503,1.99712,2.00314,2.00751,2.021539,2.03224,2.042955,2.05741,2.06219,2.063185,\n",
    "                  2.06528,2.07390,2.08168,2.09918])"
   ]
  },
  {
   "cell_type": "code",
   "execution_count": null,
   "metadata": {},
   "outputs": [],
   "source": []
  },
  {
   "cell_type": "markdown",
   "metadata": {},
   "source": [
    "# Q4b. Once you have identified 3 lines, plot the arc spectrum from above again, and indicate the three (or more) lines you're using. Print out the pixel value and wavelength for each."
   ]
  },
  {
   "cell_type": "code",
   "execution_count": null,
   "metadata": {},
   "outputs": [],
   "source": []
  },
  {
   "cell_type": "markdown",
   "metadata": {},
   "source": [
    "# Q4c. Make a plot with your line identifications: For each line you identified, plot the pixel value on the x axis and its wavelength on the y axis. If your three points do not lie close to on a line, you've identified something incorrectly. Now, fit a polynomial (degree 1 or 2, but 1 should suffice) to this line. numpy's polyfit function is simple and adequate. That polynomial is your function to convert pixel to wavelength. Add the polynomial to your plot."
   ]
  },
  {
   "cell_type": "code",
   "execution_count": null,
   "metadata": {},
   "outputs": [],
   "source": []
  },
  {
   "cell_type": "markdown",
   "metadata": {},
   "source": [
    "# Q4d: Plot the Io spectrum in counts/sec vs. wavelength."
   ]
  },
  {
   "cell_type": "code",
   "execution_count": null,
   "metadata": {},
   "outputs": [],
   "source": []
  },
  {
   "cell_type": "markdown",
   "metadata": {},
   "source": [
    "# Part IV: Telluric Correction"
   ]
  },
  {
   "cell_type": "markdown",
   "metadata": {},
   "source": [
    "We will correct the spectrum for atmospheric absorption analogously to the photometry tutorial, but now using an entire spectrum for the calibration star instead of a single value for a given filter. So, you will create a conversion spectrum (instead of conversion value) that can be applied to your data. The conversion spectrum is a stellar model divided by the stellar spectrum in counts/sec, and thus converts the data from counts/sec into whatever physical units the model was in."
   ]
  },
  {
   "cell_type": "markdown",
   "metadata": {},
   "source": [
    "Create a stellar model assuming your star is a 9000 K blackbody. We are not going to worry about absolute scaling of the spectrum, or about getting absolute photometry. So, feel free to rescale the model spectrum by a constant to bring it to a different normalization if you like."
   ]
  },
  {
   "cell_type": "code",
   "execution_count": 10,
   "metadata": {},
   "outputs": [],
   "source": [
    "def planck(lam,T):\n",
    "    # Inputs:\n",
    "    # lam: an array of wavelengths in microns\n",
    "    # T: temperature in Kelvins\n",
    "    # Output:\n",
    "    # Array of flux densities at each wavelength\n",
    "    lam = lam*1e-6 # convert from microns to meters\n",
    "    h = 6.626e-34 # m^2 kg/s\n",
    "    kb = 1.38e-23 # m^2 kg s^-2 K^-1\n",
    "    c = 3e8 # m/s\n",
    "    Blam = (2.0*h*c**2./lam**5.)/(np.exp(h*c/(lam*kb*T))-1) # SI units\n",
    "    return Blam"
   ]
  },
  {
   "cell_type": "code",
   "execution_count": null,
   "metadata": {},
   "outputs": [],
   "source": []
  },
  {
   "cell_type": "markdown",
   "metadata": {},
   "source": [
    "# Q5a: Plot the final Io spectrum, in units of Normalized Flux Density vs. Wavelength. Overplot a Planck function that approximates the overall shape of the Io spectrum. Print out the temperature that provided the best fit."
   ]
  },
  {
   "cell_type": "code",
   "execution_count": null,
   "metadata": {},
   "outputs": [],
   "source": []
  },
  {
   "cell_type": "markdown",
   "metadata": {},
   "source": [
    "# Q5b. Finally, plot the Io spectrum minus the best-fit Planck spectrum. There is a Sulfur Monoxide gas emission band in the spectrum. Identify where it is. It may help to look at a transmission spectrum of Earth's atmosphere above Mauna Kea, which will help you identify which of the features in Io's spectrum are actually due to Earth."
   ]
  },
  {
   "cell_type": "code",
   "execution_count": null,
   "metadata": {},
   "outputs": [],
   "source": []
  },
  {
   "cell_type": "markdown",
   "metadata": {},
   "source": [
    "These data are published in de Kleer et al (2019) https://arxiv.org/pdf/1808.03321.pdf, and you can see the resultant spectrum in Figure 7, after a more complex data reduction procedure and after combining a larger volume of spectra pairs."
   ]
  }
 ],
 "metadata": {
  "kernelspec": {
   "display_name": "Python 3 (ipykernel)",
   "language": "python",
   "name": "python3"
  },
  "language_info": {
   "codemirror_mode": {
    "name": "ipython",
    "version": 3
   },
   "file_extension": ".py",
   "mimetype": "text/x-python",
   "name": "python",
   "nbconvert_exporter": "python",
   "pygments_lexer": "ipython3",
   "version": "3.9.6"
  }
 },
 "nbformat": 4,
 "nbformat_minor": 2
}
